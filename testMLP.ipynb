{
  "cells": [
    {
      "cell_type": "code",
      "execution_count": null,
      "metadata": {
        "id": "iGALmP0DlD4U"
      },
      "outputs": [],
      "source": [
        "import keras\n",
        "import tensorflow as tf\n",
        "import pickle\n",
        "import os\n",
        "import numpy as np\n",
        "\n",
        "modelPath = \"\" #add path to mlp model\n",
        "testSetDir = \"\" #path to plec fingerprints of the test set\n",
        "\n",
        "testset = {}\n",
        "for file in sorted(os.listdir(testSetDir)):\n",
        "    testset[file[:-4]] = np.load(os.path.join(testSetDir,file))\n",
        "\n",
        "testFeatures = np.array(list(testset.values()))\n",
        "\n",
        "model = keras.models.load_model(modelPath)\n",
        "predictions = model.predict(testFeatures)\n",
        "print(predictions)"
      ]
    }
  ],
  "metadata": {
    "colab": {
      "provenance": []
    },
    "gpuClass": "standard",
    "kernelspec": {
      "display_name": "Python 3",
      "name": "python3"
    },
    "language_info": {
      "name": "python"
    }
  },
  "nbformat": 4,
  "nbformat_minor": 0
}
