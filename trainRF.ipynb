{
  "cells": [
    {
      "cell_type": "code",
      "execution_count": null,
      "metadata": {
        "colab": {
          "base_uri": "https://localhost:8080/"
        },
        "id": "5_-M_lo-Ye4z",
        "outputId": "d9dc9d37-7c89-4b2e-f26f-d1dc7b2c9762"
      },
      "outputs": [],
      "source": [
        "import random\n",
        "import os\n",
        "import numpy as np\n",
        "from sklearn.svm import SVR\n",
        "from sklearn.ensemble import RandomForestRegressor\n",
        "from sklearn.metrics import mean_squared_error,r2_score\n",
        "from sklearn.feature_selection import r_regression\n",
        "\n",
        "\n",
        "indexFullSet = \"INDEX_general_PL_data.2020\"\n",
        "indexRefinedSet = \"INDEX_refined_data.2020\"\n",
        "indexCoreSet = \"CoreSet.dat\"\n",
        "dataDir = \"PLECS_16384\"  # path to folder containing plec fingerprints in \".npy\" format with the pdbID as the name\n",
        "\n",
        "\n",
        "def parseIndexFile(indexFilePath):\n",
        "    with open(indexFilePath, \"r\") as index_file:\n",
        "            pdbIDs = []\n",
        "            logKvalues = {}\n",
        "            for line in index_file:\n",
        "                if line.startswith('#'):\n",
        "                  continue\n",
        "                if line.split()[4].startswith(('Ki=','Kd=')):\n",
        "                  pdbIDs.append(str(line.split()[0]))\n",
        "                  logKvalues[str(line.split()[0])] = float(line.split()[3])\n",
        "    return pdbIDs, logKvalues\n",
        "\n",
        "refinedIndex,logK = parseIndexFile(indexRefinedSet)\n",
        "coreIndex,logKcore = parseIndexFile(indexCoreSet)\n",
        "fullIndex,logKFull = parseIndexFile(indexFullSet)\n",
        "\n",
        "trainData = []\n",
        "testData = []\n",
        "trainValues = []\n",
        "testValues = []\n",
        "testIDs = []\n",
        "trainIDs = []\n",
        "\n",
        "\n",
        "for pdbID in fullIndex:\n",
        "    if not os.path.isfile(f\"{dataDir}/{pdbID}.npy\"):\n",
        "         continue\n",
        "    plec = np.load(f\"{dataDir}/{pdbID}.npy\")\n",
        "    if pdbID in coreIndex:\n",
        "        testData.append(plec)\n",
        "        testValues.append(logKFull[pdbID])\n",
        "        testIDs.append(pdbID)\n",
        "    elif pdbID in refinedIndex:\n",
        "        trainData.append(plec)\n",
        "        trainValues.append(logKFull[pdbID])\n",
        "        trainIDs.append(pdbID)\n",
        "\n",
        "\n",
        "data = [(plec,val) for plec,val in zip(trainData,trainValues)]\n",
        "random.shuffle(data)\n",
        "trainData = [d[0] for d in data]\n",
        "trainValues = [d[1] for d in data]\n",
        "splitSize = int(len(trainData)/10)\n",
        "\n",
        "testData = np.array(testData)\n",
        "testValues = np.array(testValues)\n"
      ]
    },
    {
      "cell_type": "code",
      "execution_count": null,
      "metadata": {
        "colab": {
          "base_uri": "https://localhost:8080/"
        },
        "id": "RcE2tb8UY1bl",
        "outputId": "d887fe57-168f-418f-bb5f-0301f2f0e054"
      },
      "outputs": [],
      "source": [
        "regr = RandomForestRegressor()\n",
        "regr.fit(trainData, trainValues)\n",
        "predictions = regr.predict(testData)\n",
        "print(np.sqrt(mean_squared_error(predictions,testValues)))\n",
        "print(r2_score(testValues,predictions))\n",
        "print(r_regression(testValues.reshape(-1,1),predictions))\n",
        "print(predictions)"
      ]
    }
  ],
  "metadata": {
    "colab": {
      "provenance": []
    },
    "kernelspec": {
      "display_name": "Python 3",
      "name": "python3"
    },
    "language_info": {
      "name": "python"
    }
  },
  "nbformat": 4,
  "nbformat_minor": 0
}
